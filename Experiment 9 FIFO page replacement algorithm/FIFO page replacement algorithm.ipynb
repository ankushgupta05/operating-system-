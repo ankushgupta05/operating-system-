{
 "cells": [
  {
   "cell_type": "code",
   "execution_count": 1,
   "id": "6963e7ca",
   "metadata": {},
   "outputs": [
    {
     "name": "stdout",
     "output_type": "stream",
     "text": [
      "Page 5 caused a page fault. Frames: [5]\n",
      "Page 4 caused a page fault. Frames: [5, 4]\n",
      "Page 0 caused a page fault. Frames: [5, 4, 0]\n",
      "Page 3 caused a page fault. Frames: [4, 0, 3]\n",
      "Page 5 caused a page fault. Frames: [0, 3, 5]\n",
      "Page 6 caused a page fault. Frames: [3, 5, 6]\n",
      "Total page faults: 6\n"
     ]
    }
   ],
   "source": [
    "class FIFOPageReplacement:\n",
    "    def __init__(self, capacity):\n",
    "        self.capacity = capacity  \n",
    "        self.frames = []          \n",
    "        self.page_faults = 0     \n",
    "\n",
    "    def process_page(self, page):\n",
    "        \n",
    "        if page not in self.frames:\n",
    "            self.page_faults += 1\n",
    "            \n",
    "            if len(self.frames) < self.capacity:\n",
    "                self.frames.append(page)\n",
    "            else:\n",
    "               \n",
    "                self.frames.pop(0)\n",
    "                self.frames.append(page)\n",
    "            print(f\"Page {page} caused a page fault. Frames: {self.frames}\")\n",
    "        else:\n",
    "            print(f\"Page {page} did not cause a page fault. Frames: {self.frames}\")\n",
    "\n",
    "    def get_page_faults(self):\n",
    "        return self.page_faults\n",
    "\n",
    "\n",
    "if __name__ == \"__main__\":\n",
    "    \n",
    "    capacity = 3\n",
    "\n",
    "    \n",
    "    fifo = FIFOPageReplacement(capacity)# creating object\n",
    "\n",
    "    pages = [5, 4, 0, 3, 5, 6]\n",
    "\n",
    "    \n",
    "    for page in pages:\n",
    "        fifo.process_page(page)\n",
    "\n",
    "   \n",
    "    print(f\"Total page faults: {fifo.get_page_faults()}\")"
   ]
  },
  {
   "cell_type": "code",
   "execution_count": null,
   "id": "cb25a6aa",
   "metadata": {},
   "outputs": [],
   "source": []
  }
 ],
 "metadata": {
  "kernelspec": {
   "display_name": "Python 3 (ipykernel)",
   "language": "python",
   "name": "python3"
  },
  "language_info": {
   "codemirror_mode": {
    "name": "ipython",
    "version": 3
   },
   "file_extension": ".py",
   "mimetype": "text/x-python",
   "name": "python",
   "nbconvert_exporter": "python",
   "pygments_lexer": "ipython3",
   "version": "3.11.3"
  }
 },
 "nbformat": 4,
 "nbformat_minor": 5
}
