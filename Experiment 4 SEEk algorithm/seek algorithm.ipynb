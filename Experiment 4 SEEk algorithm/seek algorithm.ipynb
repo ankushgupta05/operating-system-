{
 "cells": [
  {
   "cell_type": "code",
   "execution_count": 24,
   "id": "5588952f",
   "metadata": {},
   "outputs": [
    {
     "name": "stdout",
     "output_type": "stream",
     "text": [
      "98 183 37 122 14 124 65 67\n",
      "Enter position of Head : 53\n",
      "183 98 85\n",
      "183 37 146\n",
      "122 37 85\n",
      "122 14 108\n",
      "124 14 110\n",
      "124 65 59\n",
      "67 65 2\n",
      "\n",
      "head cover distance :  640\n"
     ]
    }
   ],
   "source": [
    "# l = [98,183,37,122,14,124,65,67]\n",
    "l = [int(i) for i in input().split()]\n",
    "pos = int(input('Enter position of Head : '))\n",
    "leng = len(l)\n",
    "temp = 0\n",
    "for i in range(leng-1):\n",
    "    mx = max(l[i],l[i+1])\n",
    "    mn = min(l[i],l[i+1])\n",
    "    temp = temp + (mx-mn)\n",
    "    print(mx,mn,mx-mn)\n",
    "print()\n",
    "mx = max(l[0] , pos)\n",
    "mn =min(l[0] , pos)\n",
    "print('head cover distance : ',temp + (mx-mn))"
   ]
  },
  {
   "cell_type": "code",
   "execution_count": null,
   "id": "9ec00f6b",
   "metadata": {},
   "outputs": [],
   "source": []
  }
 ],
 "metadata": {
  "kernelspec": {
   "display_name": "Python 3 (ipykernel)",
   "language": "python",
   "name": "python3"
  },
  "language_info": {
   "codemirror_mode": {
    "name": "ipython",
    "version": 3
   },
   "file_extension": ".py",
   "mimetype": "text/x-python",
   "name": "python",
   "nbconvert_exporter": "python",
   "pygments_lexer": "ipython3",
   "version": "3.11.3"
  }
 },
 "nbformat": 4,
 "nbformat_minor": 5
}
