{
 "cells": [
  {
   "cell_type": "code",
   "execution_count": 23,
   "id": "484e2778",
   "metadata": {},
   "outputs": [
    {
     "name": "stdout",
     "output_type": "stream",
     "text": [
      "PID\tArrival\tBurst\tCompletion\tTurnaround\tWaiting\n",
      "1\t0\t8\t17\t\t17\t\t9\n",
      "2\t1\t4\t5\t\t4\t\t0\n",
      "3\t2\t9\t26\t\t24\t\t15\n",
      "4\t3\t5\t10\t\t7\t\t2\n",
      "\n",
      "Average Turnaround Time: 13.0\n",
      "Average Waiting Time: 6.5\n"
     ]
    }
   ],
   "source": [
    "class Process:\n",
    "    def __init__(self, pid, arrival_time, burst_time):\n",
    "        self.pid = pid\n",
    "        self.arrival_time = arrival_time\n",
    "        self.burst_time = burst_time\n",
    "        self.remaining_time = burst_time\n",
    "        self.completion_time = 0\n",
    "        self.start_time = -1\n",
    "\n",
    "def srtf_scheduling(processes):\n",
    "    time = 0\n",
    "    complete = 0\n",
    "    n = len(processes)\n",
    "    current_process = None\n",
    "\n",
    "    while complete != n:\n",
    "        # Select the process with the shortest remaining time at the current time\n",
    "        for process in processes:\n",
    "            if process.arrival_time <= time and process.remaining_time > 0:\n",
    "                if current_process is None or process.remaining_time < current_process.remaining_time:\n",
    "                    current_process = process\n",
    "\n",
    "        if current_process is None:\n",
    "            time += 1\n",
    "            continue\n",
    "\n",
    "        # If it's the first time the process is being executed, set its start time\n",
    "        if current_process.start_time == -1:\n",
    "            current_process.start_time = time\n",
    "\n",
    "        # Execute the current process\n",
    "        current_process.remaining_time -= 1\n",
    "        time += 1\n",
    "\n",
    "        # If the current process is complete\n",
    "        if current_process.remaining_time == 0:\n",
    "            current_process.completion_time = time\n",
    "            complete += 1\n",
    "            current_process = None\n",
    "\n",
    "    # Calculate and print the results\n",
    "    total_turnaround_time = 0\n",
    "    total_waiting_time = 0\n",
    "\n",
    "    print(\"PID\\tArrival\\tBurst\\tCompletion\\tTurnaround\\tWaiting\")\n",
    "    for process in processes:\n",
    "        turnaround_time = process.completion_time - process.arrival_time\n",
    "        waiting_time = turnaround_time - process.burst_time\n",
    "        total_turnaround_time += turnaround_time\n",
    "        total_waiting_time += waiting_time\n",
    "        print(f\"{process.pid}\\t{process.arrival_time}\\t{process.burst_time}\\t{process.completion_time}\\t\\t{turnaround_time}\\t\\t{waiting_time}\")\n",
    "\n",
    "    print(f\"\\nAverage Turnaround Time: {total_turnaround_time / n}\")\n",
    "    print(f\"Average Waiting Time: {total_waiting_time / n}\")\n",
    "\n",
    "processes = [\n",
    "    Process(1, 0, 8),\n",
    "    Process(2, 1, 4),\n",
    "    Process(3, 2, 9),\n",
    "    Process(4, 3, 5)\n",
    "]\n",
    "srtf_scheduling(processes)"
   ]
  },
  {
   "cell_type": "code",
   "execution_count": null,
   "id": "9eca437d",
   "metadata": {},
   "outputs": [],
   "source": []
  }
 ],
 "metadata": {
  "kernelspec": {
   "display_name": "Python 3 (ipykernel)",
   "language": "python",
   "name": "python3"
  },
  "language_info": {
   "codemirror_mode": {
    "name": "ipython",
    "version": 3
   },
   "file_extension": ".py",
   "mimetype": "text/x-python",
   "name": "python",
   "nbconvert_exporter": "python",
   "pygments_lexer": "ipython3",
   "version": "3.11.3"
  }
 },
 "nbformat": 4,
 "nbformat_minor": 5
}
