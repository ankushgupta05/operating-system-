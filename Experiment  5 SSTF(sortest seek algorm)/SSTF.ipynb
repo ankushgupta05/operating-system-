{
 "cells": [
  {
   "cell_type": "code",
   "execution_count": 25,
   "id": "48cb8268",
   "metadata": {},
   "outputs": [
    {
     "name": "stdout",
     "output_type": "stream",
     "text": [
      "72 160 33 130 14 6 180\n",
      "[72, 160, 33, 130, 14, 6, 180]\n",
      "50\n",
      "\n",
      "180\n",
      "17\n"
     ]
    }
   ],
   "source": [
    "l = [int(i) for i in input().split()]\n",
    "print(l)\n",
    "pos = int(input())\n",
    "print()\n",
    "temp_list = []\n",
    "lengh = len(l)\n",
    "max_diff = max(l)\n",
    "for i in range(lengh):\n",
    "    temp =  abs(pos-l[i])\n",
    "    if(temp < max_diff ):\n",
    "        min_diff = temp\n"
   ]
  },
  {
   "cell_type": "code",
   "execution_count": null,
   "id": "f4b44382",
   "metadata": {},
   "outputs": [],
   "source": [
    "72 160 33 130 14 6 180"
   ]
  },
  {
   "cell_type": "code",
   "execution_count": null,
   "id": "c95fa42f",
   "metadata": {},
   "outputs": [],
   "source": []
  }
 ],
 "metadata": {
  "kernelspec": {
   "display_name": "Python 3 (ipykernel)",
   "language": "python",
   "name": "python3"
  },
  "language_info": {
   "codemirror_mode": {
    "name": "ipython",
    "version": 3
   },
   "file_extension": ".py",
   "mimetype": "text/x-python",
   "name": "python",
   "nbconvert_exporter": "python",
   "pygments_lexer": "ipython3",
   "version": "3.11.3"
  }
 },
 "nbformat": 4,
 "nbformat_minor": 5
}
