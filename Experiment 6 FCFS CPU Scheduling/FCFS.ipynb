{
 "cells": [
  {
   "cell_type": "code",
   "execution_count": 21,
   "id": "158b11e0",
   "metadata": {},
   "outputs": [
    {
     "name": "stdout",
     "output_type": "stream",
     "text": [
      "[[0, 10], [16, 8], [24, 14]]\n"
     ]
    },
    {
     "data": {
      "text/plain": [
       "16"
      ]
     },
     "execution_count": 21,
     "metadata": {},
     "output_type": "execute_result"
    }
   ],
   "source": [
    "processes = [ 0, 1, 3, 5]\n",
    "n = len(processes)\n",
    "b_time = [10, 6,2,4]\n",
    "g_chart = []\n",
    "T1 =0\n",
    "T2=0\n",
    "for i in range(n-1):\n",
    "    if(i==0):\n",
    "        g_chart.append([processes[i],(processes[i] + b_time[i])])\n",
    "    else:\n",
    "        T1 = b_time[i-1] + b_time[i] + T1 \n",
    "        T2 = b_time[i]+ b_time[i+1] + T2\n",
    "        \n",
    "        g_chart.append([T1,T2])\n",
    "            \n",
    "print(g_chart)\n",
    "g_chart[1][0]\n",
    " \n"
   ]
  }
 ],
 "metadata": {
  "kernelspec": {
   "display_name": "Python 3 (ipykernel)",
   "language": "python",
   "name": "python3"
  },
  "language_info": {
   "codemirror_mode": {
    "name": "ipython",
    "version": 3
   },
   "file_extension": ".py",
   "mimetype": "text/x-python",
   "name": "python",
   "nbconvert_exporter": "python",
   "pygments_lexer": "ipython3",
   "version": "3.11.3"
  }
 },
 "nbformat": 4,
 "nbformat_minor": 5
}
