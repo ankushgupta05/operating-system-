{
 "cells": [
  {
   "cell_type": "markdown",
   "id": "240a984f",
   "metadata": {},
   "source": [
    "# insertion sort"
   ]
  },
  {
   "cell_type": "code",
   "execution_count": 46,
   "id": "2053caa3",
   "metadata": {},
   "outputs": [
    {
     "name": "stdout",
     "output_type": "stream",
     "text": [
      "[12, 34, 2, 3, 2, 13, 23, 65, 25, 234]\n",
      "1\n",
      "2\n",
      "3\n",
      "4\n",
      "5\n",
      "6\n",
      "7\n",
      "8\n",
      "9\n",
      "[2, 2, 3, 13, 23, 65, 25, 234, 12, 34]\n",
      "htt\n"
     ]
    }
   ],
   "source": [
    "# insertion sorting\n",
    "\n",
    "arr = [12,34,2,3,2,13,23,65,25,234]    \n",
    "print(arr)\n",
    "for i in range(1,len(arr)):\n",
    "    print(i);\n",
    "    j = i-1;\n",
    "    current = arr[i];\n",
    "    while(arr[j] > current):\n",
    "        arr[j + 1] = arr[j];\n",
    "        j =  j - 1;\n",
    "    arr[j+1] = current;\n",
    "print(arr)\n",
    "print(\"htt\")\n"
   ]
  },
  {
   "cell_type": "markdown",
   "id": "079f7a9f",
   "metadata": {},
   "source": [
    "# Bubble sort \n"
   ]
  },
  {
   "cell_type": "code",
   "execution_count": 49,
   "id": "f2a39183",
   "metadata": {},
   "outputs": [
    {
     "name": "stdout",
     "output_type": "stream",
     "text": [
      "Enter list  number :7 6 5 4 3 2 1\n",
      "List arr number is :  [2, 2, 3, 13, 23, 65, 25, 234, 12, 34]\n",
      "[3, 7, 6, 5, 4, 2, 1]\n",
      "[7, 4, 3, 6, 5, 2, 1]\n",
      "[3, 7, 5, 4, 6, 2, 1]\n",
      "[3, 7, 5, 4, 6, 2, 1]\n",
      "[3, 7, 5, 4, 6, 2, 1]\n",
      "[3, 7, 5, 4, 6, 2, 1]\n",
      "[3, 7, 5, 4, 6, 2, 1]\n",
      "Sorted array is :  [3, 7, 5, 4, 6, 2, 1]\n"
     ]
    }
   ],
   "source": [
    "# bubble sort\n",
    "\n",
    "list_arr = [int(i) for i in input(\"Enter list  number :\").split()]\n",
    "print(\"List arr number is : \",arr)\n",
    "for i in range(0,len(list_arr)):\n",
    "    for j in range(0, len(list_arr )):\n",
    "        if(list_arr [j] > arr[i]):\n",
    "            list_arr [i],list_arr [j] = list_arr [j],list_arr [i]\n",
    "    print(list_arr )\n",
    "print(\"Sorted array is : \",list_arr)\n",
    "            \n"
   ]
  },
  {
   "cell_type": "code",
   "execution_count": 40,
   "id": "990c125f",
   "metadata": {},
   "outputs": [
    {
     "name": "stdout",
     "output_type": "stream",
     "text": [
      "[20, 10]\n",
      "[10, 20]\n"
     ]
    }
   ],
   "source": [
    "m = [20,10]\n",
    "\n",
    "print(m)\n",
    "m[0],m[1] = m[1],m[0]\n",
    "print(m)"
   ]
  },
  {
   "cell_type": "code",
   "execution_count": null,
   "id": "51e5db0e",
   "metadata": {},
   "outputs": [],
   "source": []
  }
 ],
 "metadata": {
  "kernelspec": {
   "display_name": "Python 3 (ipykernel)",
   "language": "python",
   "name": "python3"
  },
  "language_info": {
   "codemirror_mode": {
    "name": "ipython",
    "version": 3
   },
   "file_extension": ".py",
   "mimetype": "text/x-python",
   "name": "python",
   "nbconvert_exporter": "python",
   "pygments_lexer": "ipython3",
   "version": "3.11.3"
  }
 },
 "nbformat": 4,
 "nbformat_minor": 5
}
